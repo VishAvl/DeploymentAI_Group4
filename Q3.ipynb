{
 "cells": [
  {
   "cell_type": "markdown",
   "id": "95147fea",
   "metadata": {},
   "source": [
    "#   (Mahima and Nidhi)"
   ]
  },
  {
   "cell_type": "markdown",
   "id": "d2ddf4c0",
   "metadata": {},
   "source": [
    "##  Q3. Naive Bayes model using One-Hot Vectors for Unigram+Bigram"
   ]
  },
  {
   "cell_type": "code",
   "execution_count": 45,
   "id": "da005b5a",
   "metadata": {},
   "outputs": [
    {
     "name": "stdout",
     "output_type": "stream",
     "text": [
      "                                  Task  \\\n",
      "0  SVM model with Unigram+CountVectors   \n",
      "1                  Training Data Check   \n",
      "2                         Feature Engg   \n",
      "3                     Cross Validation   \n",
      "4                     Interpretability   \n",
      "5                   Testing Data Check   \n",
      "\n",
      "                                           Status  \\\n",
      "0               Config of the model trained = YES   \n",
      "1                   Confusion Matrix Built? = YES   \n",
      "2     Categorical/Numerical Features Added? = YES   \n",
      "3                                                   \n",
      "4  Interpretability Implemented? Local or Global?   \n",
      "5                    Confusion Matrix Built?= YES   \n",
      "\n",
      "                                             Results Individual Responsible  \\\n",
      "0                                     Train Time = ?                          \n",
      "1  F1 Score for Positive = 1709\\nF1 Score for Neg...                          \n",
      "2                                                                             \n",
      "3                                                                             \n",
      "4                                                                             \n",
      "5                                                                             \n",
      "\n",
      "                        AUC                                         Accuracy  \n",
      "0                                                                             \n",
      "1  AUC = 0.6526998749399809                    Accuracy = 0.7072019674964273  \n",
      "2                                                                             \n",
      "3                                                                             \n",
      "4                                                                             \n",
      "5                            Sentiment: Positive = 297704 , Negative = 76612  \n"
     ]
    }
   ],
   "source": [
    "import pandas as pd\n",
    "\n",
    "# Define the data\n",
    "data = {\n",
    "    \"Task\": [\n",
    "        \"SVM model with Unigram+CountVectors\",\n",
    "        \"Training Data Check\",\n",
    "        \"Feature Engg\",\n",
    "        \"Cross Validation\",\n",
    "        \"Interpretability\",\n",
    "        \"Testing Data Check\"\n",
    "    ],\n",
    "    \"Status\": [\n",
    "        \"Config of the model trained = YES\",\n",
    "        \"Confusion Matrix Built? = YES\",\n",
    "        \"Categorical/Numerical Features Added? = YES\",\n",
    "        \"\",\n",
    "        \"Interpretability Implemented? Local or Global?\",\n",
    "        \"Confusion Matrix Built?= YES\"\n",
    "    ],\n",
    "    \"Results\": [\n",
    "        \"Train Time = 5 hours\",\n",
    "        \"F1 Score for Positive = 1709\\nF1 Score for Negative = 8\",\n",
    "        \"\",\n",
    "        \"\",\n",
    "        \"\",\n",
    "        \"\"\n",
    "    ],\n",
    "    \"Individual Responsible\": [\n",
    "        \"\",\n",
    "        \"\",\n",
    "        \"\",\n",
    "        \"\",\n",
    "        \"\",\n",
    "        \"\"\n",
    "    ],\n",
    "    \"AUC\": [\n",
    "        \"\",\n",
    "        \"AUC = 0.6526998749399809\",\n",
    "        \"\",\n",
    "        \"\",\n",
    "        \"\",\n",
    "        \"\"\n",
    "    ],\n",
    "    \"Accuracy\": [\n",
    "        \"\",\n",
    "        \" Accuracy = 0.7072019674964273\",\n",
    "        \"\",\n",
    "        \"\",\n",
    "        \"\",\n",
    "        \"Sentiment: Positive = 297704 , Negative = 76612\"\n",
    "    ]\n",
    "}\n",
    "\n",
    "df = pd.DataFrame(data)\n",
    "print(df)"
   ]
  },
  {
   "cell_type": "markdown",
   "id": "63fff74c",
   "metadata": {},
   "source": [
    "# Importing pandas and reading file"
   ]
  },
  {
   "cell_type": "code",
   "execution_count": 59,
   "id": "ec9eb9d7-e9a5-4a42-a0fe-8be94191642b",
   "metadata": {},
   "outputs": [
    {
     "data": {
      "text/html": [
       "<div>\n",
       "<style scoped>\n",
       "    .dataframe tbody tr th:only-of-type {\n",
       "        vertical-align: middle;\n",
       "    }\n",
       "\n",
       "    .dataframe tbody tr th {\n",
       "        vertical-align: top;\n",
       "    }\n",
       "\n",
       "    .dataframe thead th {\n",
       "        text-align: right;\n",
       "    }\n",
       "</style>\n",
       "<table border=\"1\" class=\"dataframe\">\n",
       "  <thead>\n",
       "    <tr style=\"text-align: right;\">\n",
       "      <th></th>\n",
       "      <th>Tweet</th>\n",
       "      <th>Sentiment</th>\n",
       "    </tr>\n",
       "  </thead>\n",
       "  <tbody>\n",
       "    <tr>\n",
       "      <th>0</th>\n",
       "      <td>@_angelica_toy Happy Anniversary!!!....The Day...</td>\n",
       "      <td>Mild_Pos</td>\n",
       "    </tr>\n",
       "    <tr>\n",
       "      <th>1</th>\n",
       "      <td>@McfarlaneGlenda Happy Anniversary!!!....The D...</td>\n",
       "      <td>Mild_Pos</td>\n",
       "    </tr>\n",
       "    <tr>\n",
       "      <th>2</th>\n",
       "      <td>@thevivafrei @JustinTrudeau Happy Anniversary!...</td>\n",
       "      <td>Mild_Pos</td>\n",
       "    </tr>\n",
       "    <tr>\n",
       "      <th>3</th>\n",
       "      <td>@NChartierET Happy Anniversary!!!....The Day t...</td>\n",
       "      <td>Mild_Pos</td>\n",
       "    </tr>\n",
       "    <tr>\n",
       "      <th>4</th>\n",
       "      <td>@tabithapeters05 Happy Anniversary!!!....The D...</td>\n",
       "      <td>Mild_Pos</td>\n",
       "    </tr>\n",
       "  </tbody>\n",
       "</table>\n",
       "</div>"
      ],
      "text/plain": [
       "                                               Tweet Sentiment\n",
       "0  @_angelica_toy Happy Anniversary!!!....The Day...  Mild_Pos\n",
       "1  @McfarlaneGlenda Happy Anniversary!!!....The D...  Mild_Pos\n",
       "2  @thevivafrei @JustinTrudeau Happy Anniversary!...  Mild_Pos\n",
       "3  @NChartierET Happy Anniversary!!!....The Day t...  Mild_Pos\n",
       "4  @tabithapeters05 Happy Anniversary!!!....The D...  Mild_Pos"
      ]
     },
     "execution_count": 59,
     "metadata": {},
     "output_type": "execute_result"
    }
   ],
   "source": [
    "import pandas as pd\n",
    "df= pd.read_csv('Sentiment_Data.csv', encoding='ISO-8859-1')\n",
    "df.head()"
   ]
  },
  {
   "cell_type": "code",
   "execution_count": 60,
   "id": "6495b999",
   "metadata": {},
   "outputs": [
    {
     "data": {
      "text/html": [
       "<div>\n",
       "<style scoped>\n",
       "    .dataframe tbody tr th:only-of-type {\n",
       "        vertical-align: middle;\n",
       "    }\n",
       "\n",
       "    .dataframe tbody tr th {\n",
       "        vertical-align: top;\n",
       "    }\n",
       "\n",
       "    .dataframe thead th {\n",
       "        text-align: right;\n",
       "    }\n",
       "</style>\n",
       "<table border=\"1\" class=\"dataframe\">\n",
       "  <thead>\n",
       "    <tr style=\"text-align: right;\">\n",
       "      <th></th>\n",
       "      <th>Tweet</th>\n",
       "      <th>Sentiment</th>\n",
       "    </tr>\n",
       "  </thead>\n",
       "  <tbody>\n",
       "    <tr>\n",
       "      <th>451327</th>\n",
       "      <td>Gaza; Peace n' Freedom - Viva Palestina convoy...</td>\n",
       "      <td>Strong_Pos</td>\n",
       "    </tr>\n",
       "    <tr>\n",
       "      <th>451328</th>\n",
       "      <td>Face of Defense: Soldier Finds Freedom in U.S....</td>\n",
       "      <td>Strong_Pos</td>\n",
       "    </tr>\n",
       "    <tr>\n",
       "      <th>451329</th>\n",
       "      <td>Face of Defense: Soldier Finds Freedom in U.S....</td>\n",
       "      <td>Strong_Pos</td>\n",
       "    </tr>\n",
       "    <tr>\n",
       "      <th>451330</th>\n",
       "      <td>Gaza; Peace n' Freedom - \"Israel stops aid con...</td>\n",
       "      <td>Strong_Pos</td>\n",
       "    </tr>\n",
       "    <tr>\n",
       "      <th>451331</th>\n",
       "      <td>@convoy 83 yes! get on freedom server!</td>\n",
       "      <td>Strong_Pos</td>\n",
       "    </tr>\n",
       "  </tbody>\n",
       "</table>\n",
       "</div>"
      ],
      "text/plain": [
       "                                                    Tweet   Sentiment\n",
       "451327  Gaza; Peace n' Freedom - Viva Palestina convoy...  Strong_Pos\n",
       "451328  Face of Defense: Soldier Finds Freedom in U.S....  Strong_Pos\n",
       "451329  Face of Defense: Soldier Finds Freedom in U.S....  Strong_Pos\n",
       "451330  Gaza; Peace n' Freedom - \"Israel stops aid con...  Strong_Pos\n",
       "451331             @convoy 83 yes! get on freedom server!  Strong_Pos"
      ]
     },
     "execution_count": 60,
     "metadata": {},
     "output_type": "execute_result"
    }
   ],
   "source": [
    "df.tail()"
   ]
  },
  {
   "cell_type": "code",
   "execution_count": 61,
   "id": "70cb5b57-0526-430f-8470-f9fa289a8780",
   "metadata": {},
   "outputs": [
    {
     "name": "stdout",
     "output_type": "stream",
     "text": [
      "@_angelica_toy Happy Anniversary!!!....The Day the FreeDUMB Died (In the tune of Don McLean's \"American Pie\") #FreeDumbConvoy #Freedumbers #FluTruxKlan #convoywatch #convoy #FreedomConvoy   https://t.co/ZT1cIPwmh9\n"
     ]
    }
   ],
   "source": [
    "print(df['Tweet'].iloc[0])"
   ]
  },
  {
   "cell_type": "code",
   "execution_count": 62,
   "id": "aacf6f54-361a-4f54-b4a6-ce06a9320e46",
   "metadata": {},
   "outputs": [
    {
     "data": {
      "text/plain": [
       "Strong_Pos    233700\n",
       "Neutral        77016\n",
       "Mild_Pos       64004\n",
       "Strong_Neg     42556\n",
       "Mild_Neg       34056\n",
       "Name: Sentiment, dtype: int64"
      ]
     },
     "execution_count": 62,
     "metadata": {},
     "output_type": "execute_result"
    }
   ],
   "source": [
    "df['Sentiment'].value_counts()"
   ]
  },
  {
   "cell_type": "code",
   "execution_count": 63,
   "id": "35f64ef1-a387-4f38-8b7f-320ce83c60ed",
   "metadata": {},
   "outputs": [],
   "source": [
    "import warnings\n",
    "warnings.filterwarnings('ignore')"
   ]
  },
  {
   "cell_type": "markdown",
   "id": "5229211e",
   "metadata": {},
   "source": [
    "# Defining the dictionary for emotions (using sentiment)"
   ]
  },
  {
   "cell_type": "code",
   "execution_count": 64,
   "id": "bf26957d-412a-4693-9a0b-92119201f53b",
   "metadata": {},
   "outputs": [],
   "source": [
    "sentiment_mapping = {'Strong_Pos': 'Positive', 'Mild_Pos': 'Positive', 'Strong_Neg': 'Negative', 'Mild_Neg': 'Negative'}\n",
    "\n",
    "# Replace values in 'Sentiment' column\n",
    "df['Sentiment'] = df['Sentiment'].map(sentiment_mapping)\n"
   ]
  },
  {
   "cell_type": "markdown",
   "id": "ad025d6b",
   "metadata": {},
   "source": [
    "# Value counts of Sentiment"
   ]
  },
  {
   "cell_type": "code",
   "execution_count": 65,
   "id": "b3a118e7-e6b2-4692-879d-6bdf93ea4b60",
   "metadata": {},
   "outputs": [
    {
     "data": {
      "text/plain": [
       "Positive    297704\n",
       "Negative     76612\n",
       "Name: Sentiment, dtype: int64"
      ]
     },
     "execution_count": 65,
     "metadata": {},
     "output_type": "execute_result"
    }
   ],
   "source": [
    "df['Sentiment'].value_counts()"
   ]
  },
  {
   "cell_type": "markdown",
   "id": "fcdbf9a2-375c-40ae-9096-4f32b5379ef0",
   "metadata": {},
   "source": [
    "# Finding Missing Values"
   ]
  },
  {
   "cell_type": "code",
   "execution_count": 66,
   "id": "953c4c36-6755-419d-a54e-8fbf041017ee",
   "metadata": {},
   "outputs": [
    {
     "data": {
      "text/plain": [
       "False    451331\n",
       "True          1\n",
       "Name: Tweet, dtype: int64"
      ]
     },
     "execution_count": 66,
     "metadata": {},
     "output_type": "execute_result"
    }
   ],
   "source": [
    "df['Tweet'].isnull().value_counts()"
   ]
  },
  {
   "cell_type": "code",
   "execution_count": 67,
   "id": "5248af49-3ed8-4339-9b6d-3b965ee63d8e",
   "metadata": {},
   "outputs": [],
   "source": [
    "df = df[df['Tweet'].notnull()]"
   ]
  },
  {
   "cell_type": "code",
   "execution_count": 68,
   "id": "7e07892c-2f5a-4e20-bf2d-751776c79b93",
   "metadata": {},
   "outputs": [
    {
     "data": {
      "text/plain": [
       "0         @_angelica_toy Happy Anniversary!!!....The Day...\n",
       "1         @McfarlaneGlenda Happy Anniversary!!!....The D...\n",
       "2         @thevivafrei @JustinTrudeau Happy Anniversary!...\n",
       "3         @NChartierET Happy Anniversary!!!....The Day t...\n",
       "4         @tabithapeters05 Happy Anniversary!!!....The D...\n",
       "                                ...                        \n",
       "451327    Gaza; Peace n' Freedom - Viva Palestina convoy...\n",
       "451328    Face of Defense: Soldier Finds Freedom in U.S....\n",
       "451329    Face of Defense: Soldier Finds Freedom in U.S....\n",
       "451330    Gaza; Peace n' Freedom - \"Israel stops aid con...\n",
       "451331               @convoy 83 yes! get on freedom server!\n",
       "Name: Tweet, Length: 451331, dtype: object"
      ]
     },
     "execution_count": 68,
     "metadata": {},
     "output_type": "execute_result"
    }
   ],
   "source": [
    "df['Tweet']"
   ]
  },
  {
   "cell_type": "code",
   "execution_count": 12,
   "id": "d2aa21ee-850c-418b-bf63-a7123f7e07e7",
   "metadata": {},
   "outputs": [
    {
     "name": "stderr",
     "output_type": "stream",
     "text": [
      "[nltk_data] Downloading package punkt to\n",
      "[nltk_data]     C:\\Users\\asus\\AppData\\Roaming\\nltk_data...\n",
      "[nltk_data]   Package punkt is already up-to-date!\n",
      "[nltk_data] Downloading package wordnet to\n",
      "[nltk_data]     C:\\Users\\asus\\AppData\\Roaming\\nltk_data...\n",
      "[nltk_data]   Package wordnet is already up-to-date!\n",
      "[nltk_data] Downloading package stopwords to\n",
      "[nltk_data]     C:\\Users\\asus\\AppData\\Roaming\\nltk_data...\n",
      "[nltk_data]   Package stopwords is already up-to-date!\n"
     ]
    }
   ],
   "source": [
    "import nltk\n",
    "from nltk.stem import WordNetLemmatizer\n",
    "from nltk.corpus import stopwords\n",
    "import re\n",
    "#import wordsegment\n",
    "#from wordsegment import load, segment\n",
    "#load()\n",
    "\n",
    "nltk.download('punkt')\n",
    "nltk.download('wordnet')\n",
    "nltk.download('stopwords')\n",
    "\n",
    "# Function to perform lemmatization\n",
    "def lemmatization(tokens):\n",
    "    lemmatizer = WordNetLemmatizer()\n",
    "    return [lemmatizer.lemmatize(token) for token in tokens]"
   ]
  },
  {
   "cell_type": "code",
   "execution_count": 48,
   "id": "150b4751-c580-4260-a88d-7eddd422b98e",
   "metadata": {},
   "outputs": [],
   "source": [
    "# Function to derive meaning from slangs in tweets\n",
    "def handling_slang(tokens):\n",
    "    slang_dictionary = {\n",
    "    \"chill\": \"relax, calm, down\",\n",
    "    \"fomo\": \"fear of missing out\",\n",
    "    \"grind\": \"hard work, dedication\",\n",
    "    \"savage\" : \"fearless\",\n",
    "    \"squad\": \"group of friends\",\n",
    "    \"hangry\": \"hungry and angry\",\n",
    "    \"woke\": \"socially aware, enlightened\",\n",
    "    \"swag\": \"stylish and confident demeanor\",\n",
    "    \"hustle\": \"work hard, strive for success\",\n",
    "    \"tbh\": \"to be honest\",\n",
    "    \"af\": \"as f*** (extremely)\",\n",
    "    \"u\": \"you\",\n",
    "    \"fam\" : \"close friends or family\",\n",
    "    \"finesse\" : \"getting what you want\",\n",
    "    \"flex\" : \"show off\",\n",
    "    \"lituation\" : \"an event that is exciting\",\n",
    "    \"suss\" : \"investigate\",\n",
    "    \"2nite\": \"tonight\",\n",
    "    \"gr8\": \"great\",\n",
    "    \"lit\": \"exciting, excellent\",\n",
    "    \"lit af\": \"extremely exciting or excellent\",\n",
    "    \"goat\": \"greatest of all time\",\n",
    "    \"on fleek\": \"impeccably styled or presented\",\n",
    "    \"bae-cation\": \"romantic vacation with one's significant other\",\n",
    "    \"throw shade\": \"criticize or insult someone indirectly\",\n",
    "    \"slay\": \"exhibit confidence and excellence\",\n",
    "    \"shook\" : \"shocked\",\n",
    "    \"glow up\": \"positive transformation\",\n",
    "  \n",
    "    }\n",
    "\n",
    "    tokens = [slang_dictionary.get(token, token) for token in tokens]\n",
    "    return ' '.join(tokens)"
   ]
  },
  {
   "cell_type": "code",
   "execution_count": 49,
   "id": "294e754d-b490-42b4-a15b-697503030e39",
   "metadata": {},
   "outputs": [
    {
     "name": "stdout",
     "output_type": "stream",
     "text": [
      "Requirement already satisfied: pyspellchecker in c:\\users\\asus\\anaconda3\\lib\\site-packages (0.8.1)\n"
     ]
    }
   ],
   "source": [
    "!pip install pyspellchecker\n",
    "from spellchecker import SpellChecker\n",
    "\n",
    "def handling_spellings(tokens):\n",
    "    spell = SpellChecker()\n",
    "    corrected_tokens = [spell.correction(token) if token.isalpha() else token for token in tokens]\n",
    "    return ' '.join(corrected_tokens)\n"
   ]
  },
  {
   "cell_type": "code",
   "execution_count": 50,
   "id": "57eda803-4456-4d4c-ac57-4ebbfab4ec80",
   "metadata": {},
   "outputs": [],
   "source": [
    "# Function to handle the abbreviations used in tweets\n",
    "def handling_abbreviations(tokens):\n",
    "  abbreviations_dictionary = {\n",
    "    \"$\" : \" dollar \",\n",
    "    \"€\" : \" euro \",\n",
    "    \"acct\" : \"account\",\n",
    "    \"approx\" : \"approximately\",\n",
    "    \"apps\" : \"applications\",\n",
    "    \"asap\" : \"as soon as possible\",\n",
    "    \"b4\" : \"before\",\n",
    "    \"b4n\" : \"bye for now\",\n",
    "    \"b@u\" : \"back at you\",\n",
    "    \"bae\" : \"before anyone else\",\n",
    "    \"bak\" : \"back at keyboard\",\n",
    "    \"bbbg\" : \"bye bye be good\",\n",
    "    \"bbias\" : \"be back in a second\",\n",
    "    \"bbl\" : \"be back later\",\n",
    "    \"bbs\" : \"be back soon\",\n",
    "    \"be4\" : \"before\",\n",
    "    \"bfn\" : \"bye for now\",\n",
    "    \"bout\" : \"about\",\n",
    "    \"brb\" : \"be right back\",\n",
    "    \"bros\" : \"brothers\",\n",
    "    \"brt\" : \"be right there\",\n",
    "    \"bsaaw\" : \"big smile and a wink\",\n",
    "    \"btw\" : \"by the way\",\n",
    "    \"bwl\" : \"bursting with laughter\",\n",
    "    \"c/o\" : \"care of\",\n",
    "    \"cia\" : \"central intelligence agency\",\n",
    "    \"csl\" : \"can not stop laughing\",\n",
    "    \"cu\" : \"see you\",\n",
    "    \"cv\" : \"curriculum vitae\",\n",
    "    \"cwot\" : \"complete waste of time\",\n",
    "    \"cya\" : \"see you\",\n",
    "    \"cyt\" : \"see you tomorrow\",\n",
    "    \"dm\" : \"direct message\",\n",
    "    \"eg\" : \"example\",\n",
    "    \"ex\": \"example\",\n",
    "    \"etc\" : \"and so on\",\n",
    "    \"faq\" : \"frequently asked questions\",\n",
    "    \"fawc\" : \"for anyone who cares\",\n",
    "    \"fb\" : \"facebook\",\n",
    "    \"fc\" : \"fingers crossed\",\n",
    "    \"fig\" : \"figure\",\n",
    "    \"ftw\" : \"for the win\",\n",
    "    \"fwiw\" : \"for what it is worth\",\n",
    "    \"fyi\" : \"for your information\",\n",
    "    \"gahoy\" : \"get a hold of yourself\",\n",
    "    \"gal\" : \"get a life\",\n",
    "    \"gfn\" : \"gone for now\",\n",
    "    \"gl\" : \"good luck\",\n",
    "    \"glhf\" : \"good luck have fun\",\n",
    "    \"gmt\" : \"greenwich mean time\",\n",
    "    \"gmta\" : \"great minds think alike\",\n",
    "    \"gn\" : \"good night\",\n",
    "    \"g.o.a.t\" : \"greatest of all time\",\n",
    "    \"goat\" : \"greatest of all time\",\n",
    "    \"goi\" : \"get over it\",\n",
    "    \"gps\" : \"global positioning system\",\n",
    "    \"gr8\" : \"great\",\n",
    "    \"gratz\" : \"congratulations\",\n",
    "    \"gyal\" : \"girl\",\n",
    "    \"h&c\" : \"hot and cold\",\n",
    "    \"hp\" : \"horsepower\",\n",
    "    \"hr\" : \"hour\",\n",
    "    \"idc\" : \"i do not care\",\n",
    "    \"idgadf\" : \"i do not give a damn fuck\",\n",
    "    \"idgaf\" : \"i do not give a fuck\",\n",
    "    \"idk\" : \"i do not know\",\n",
    "    \"ie\" : \"that is\",\n",
    "    \"i.e\" : \"that is\",\n",
    "    \"ifyp\" : \"i feel your pain\",\n",
    "    \"IG\" : \"instagram\",\n",
    "    \"imho\" : \"in my humble opinion\",\n",
    "    \"imo\" : \"in my opinion\",\n",
    "    \"imu\" : \"i miss you\",\n",
    "    \"iow\" : \"in other words\",\n",
    "    \"irl\" : \"in real life\",\n",
    "    \"j4f\" : \"just for fun\",\n",
    "    \"jic\" : \"just in case\",\n",
    "    \"jk\" : \"just kidding\",\n",
    "    \"jsyk\" : \"just so you know\",\n",
    "    \"l8r\" : \"later\",\n",
    "    \"lb\" : \"pound\",\n",
    "    \"lbs\" : \"pounds\",\n",
    "    \"ldr\" : \"long distance relationship\",\n",
    "    \"lmao\" : \"laugh my ass off\",\n",
    "    \"lmfao\" : \"laugh my fucking ass off\",\n",
    "    \"lol\" : \"laughing out loud\",\n",
    "    \"ltd\" : \"limited\",\n",
    "    \"ltns\" : \"long time no see\",\n",
    "    \"m8\" : \"mate\",\n",
    "    \"mf\" : \"motherfucker\",\n",
    "    \"mfs\" : \"motherfuckers\",\n",
    "    \"mfw\" : \"my face when\",\n",
    "    \"mofo\" : \"motherfucker\",\n",
    "    \"mte\" : \"my thoughts exactly\",\n",
    "    \"nagi\" : \"not a good idea\",\n",
    "    \"nbd\" : \"not big deal\",\n",
    "    \"nfs\" : \"not for sale\",\n",
    "    \"nyc\" : \"new york city\",\n",
    "    \"oc\" : \"original content\",\n",
    "    \"og\" : \"original\",\n",
    "    \"ohp\" : \"overhead projector\",\n",
    "    \"oic\" : \"oh i see\",\n",
    "    \"omdb\" : \"over my dead body\",\n",
    "    \"omg\" : \"oh my god\",\n",
    "    \"omw\" : \"on my way\",\n",
    "    \"p.a\" : \"per annum\",\n",
    "    \"p.m\" : \"after midday\",\n",
    "    \"pm\" : \"prime minister\",\n",
    "    \"poc\" : \"people of color\",\n",
    "    \"pov\" : \"point of view\",\n",
    "    \"pto\" : \"please turn over\",\n",
    "    \"ratchet\" : \"rude\",\n",
    "    \"rbtl\" : \"read between the lines\",\n",
    "    \"rlrt\" : \"real life retweet\",\n",
    "    \"rofl\" : \"rolling on the floor laughing\",\n",
    "    \"roflol\" : \"rolling on the floor laughing out loud\",\n",
    "    \"rotflmao\" : \"rolling on the floor laughing my ass off\",\n",
    "    \"rt\" : \"retweet\",\n",
    "    \"ruok\" : \"are you ok\",\n",
    "    \"sfw\" : \"safe for work\",\n",
    "    \"sk8\" : \"skate\",\n",
    "    \"smh\" : \"shake my head\",\n",
    "    \"sq\" : \"square\",\n",
    "    \"srsly\" : \"seriously\",\n",
    "    \"ssdd\" : \"same stuff different day\",\n",
    "    \"tbh\" : \"to be honest\",\n",
    "    \"tfw\" : \"that feeling when\",\n",
    "    \"thks\" : \"thank you\",\n",
    "    \"tho\" : \"though\",\n",
    "    \"thx\" : \"thank you\",\n",
    "    \"tntl\" : \"trying not to laugh\",\n",
    "    \"ttyl\" : \"talk to you later\",\n",
    "    \"u\" : \"you\",\n",
    "    \"u2\" : \"you too\",\n",
    "    \"w/\" : \"with\",\n",
    "    \"w/o\" : \"without\",\n",
    "    \"w8\" : \"wait\",\n",
    "    \"wassup\" : \"what is up\",\n",
    "    \"wb\" : \"welcome back\",\n",
    "    \"wtf\" : \"what the fuck\",\n",
    "    \"wtg\" : \"way to go\",\n",
    "    \"wtpa\" : \"where the party at\",\n",
    "    \"wuf\" : \"where are you from\",\n",
    "    \"wuzup\" : \"what is up\",\n",
    "    \"wywh\" : \"wish you were here\",\n",
    "    \"ygtr\" : \"you got that right\",\n",
    "    \"ynk\" : \"you never know\",\n",
    "    \"zzz\" : \"sleeping bored and tired\"\n",
    "}\n",
    "  tokens = [abbreviations_dictionary.get(token, token) for token in tokens]\n",
    "  return ''.join(tokens)"
   ]
  },
  {
   "cell_type": "code",
   "execution_count": 51,
   "id": "a857d9bb-6fb4-4827-b655-3f3f1dff3a4d",
   "metadata": {},
   "outputs": [
    {
     "name": "stdout",
     "output_type": "stream",
     "text": [
      "Requirement already satisfied: wordsegment in c:\\users\\asus\\anaconda3\\lib\\site-packages (1.3.1)\n"
     ]
    }
   ],
   "source": [
    "!pip install wordsegment\n",
    "def data_preprocessing(words):\n",
    "\n",
    "  # Check if the text is a null or a float value before processing\n",
    " if pd.notna(words) and not isinstance(words, float):\n",
    "    words = words.lower()\n",
    "\n",
    "    # Removing mentions of users (usernames starting with '@')\n",
    "    words = re.sub(r'@[a-zA-Z0-9_]+', '', words)\n",
    "\n",
    "    # Removing URLs\n",
    "    words = re.sub(r'http[s]?://(?:[a-zA-Z]|[0-9]|[$-_@.&+]|[!*\\\\(\\\\),]|(?:%[0-9a-fA-F][0-9a-fA-F]))+', '', words)\n",
    "\n",
    "    # Substituting email IDs with 'EMAIL'\n",
    "    words = re.sub(r'\\b[A-Za-z0-9._%+-]+@[A-Za-z0-9.-]+\\.[A-Z|a-z]{2,}\\b', 'EMAIL', words)\n",
    "\n",
    "    # Substituting email domains with 'EMAIL_DOMAIN'\n",
    "    email_domains = re.findall(r'@([A-Za-z0-9.-]+)', words)\n",
    "    if email_domains:\n",
    "      text = re.sub(r'@([A-Za-z0-9.-]+)', 'EMAIL_DOMAIN', words)\n",
    "\n",
    "    # Substituting RE or re to 'REPLY_TO'\n",
    "    words = re.sub(r'\\b[rR][eE]:', 'REPLY_TO', words)\n",
    "\n",
    "    # Removing punctuations using regex\n",
    "    words = re.sub(r'[^\\w\\s]', '', words)\n",
    "    \n",
    "    #assigning words variable to tokens for easy apply in further preprocessing\n",
    "    tokens = words\n",
    "    \n",
    "    # Handling english slangs\n",
    "    tokens = handling_slang(tokens)\n",
    "\n",
    "    # Handling abbreviations (short terms used for words in English)\n",
    "    tokens = handling_abbreviations(tokens)\n",
    "\n",
    "     # Tokenization\n",
    "    tokens = nltk.word_tokenize(' '.join(tokens))\n",
    "\n",
    "    # Lemmatization\n",
    "    tokens = lemmatization(tokens)\n",
    "    \n",
    "    # Joining the tokens in one single string\n",
    "    preprocessed_text = ''.join(tokens)\n",
    "    \n",
    "    return preprocessed_text\n",
    "    \n",
    " else:\n",
    "    return ''  # Return an empty string if the input is NaN or float"
   ]
  },
  {
   "cell_type": "code",
   "execution_count": null,
   "id": "3fca0ef7-1e57-4651-8233-15eb1df50c03",
   "metadata": {},
   "outputs": [
    {
     "name": "stderr",
     "output_type": "stream",
     "text": [
      "[nltk_data] Downloading package omw-1.4 to\n",
      "[nltk_data]     C:\\Users\\asus\\AppData\\Roaming\\nltk_data...\n",
      "[nltk_data]   Package omw-1.4 is already up-to-date!\n"
     ]
    }
   ],
   "source": [
    "nltk.download('omw-1.4')\n",
    "#applying the function\n",
    "df['Tweet'] = df['Tweet'].apply(data_preprocessing)\n",
    "\n",
    "print(df['Tweet'].iloc[0])"
   ]
  },
  {
   "cell_type": "code",
   "execution_count": 20,
   "id": "6e055319-5e88-43d6-8784-807bb402685e",
   "metadata": {},
   "outputs": [
    {
     "data": {
      "text/html": [
       "<div>\n",
       "<style scoped>\n",
       "    .dataframe tbody tr th:only-of-type {\n",
       "        vertical-align: middle;\n",
       "    }\n",
       "\n",
       "    .dataframe tbody tr th {\n",
       "        vertical-align: top;\n",
       "    }\n",
       "\n",
       "    .dataframe thead th {\n",
       "        text-align: right;\n",
       "    }\n",
       "</style>\n",
       "<table border=\"1\" class=\"dataframe\">\n",
       "  <thead>\n",
       "    <tr style=\"text-align: right;\">\n",
       "      <th></th>\n",
       "      <th>Tweet</th>\n",
       "      <th>Sentiment</th>\n",
       "    </tr>\n",
       "  </thead>\n",
       "  <tbody>\n",
       "    <tr>\n",
       "      <th>0</th>\n",
       "      <td>@_angelica_toy Happy Anniversary!!!....The Day...</td>\n",
       "      <td>Positive</td>\n",
       "    </tr>\n",
       "    <tr>\n",
       "      <th>1</th>\n",
       "      <td>@McfarlaneGlenda Happy Anniversary!!!....The D...</td>\n",
       "      <td>Positive</td>\n",
       "    </tr>\n",
       "    <tr>\n",
       "      <th>2</th>\n",
       "      <td>@thevivafrei @JustinTrudeau Happy Anniversary!...</td>\n",
       "      <td>Positive</td>\n",
       "    </tr>\n",
       "    <tr>\n",
       "      <th>3</th>\n",
       "      <td>@NChartierET Happy Anniversary!!!....The Day t...</td>\n",
       "      <td>Positive</td>\n",
       "    </tr>\n",
       "    <tr>\n",
       "      <th>4</th>\n",
       "      <td>@tabithapeters05 Happy Anniversary!!!....The D...</td>\n",
       "      <td>Positive</td>\n",
       "    </tr>\n",
       "    <tr>\n",
       "      <th>5</th>\n",
       "      <td>@JusticeStyle Happy Anniversary!!!....The Day ...</td>\n",
       "      <td>Positive</td>\n",
       "    </tr>\n",
       "    <tr>\n",
       "      <th>6</th>\n",
       "      <td>@Praiset22112963 @Emergencies_Act @ikwilson Ha...</td>\n",
       "      <td>Positive</td>\n",
       "    </tr>\n",
       "    <tr>\n",
       "      <th>7</th>\n",
       "      <td>@parnel1123 @RealAndyLeeShow Happy Anniversary...</td>\n",
       "      <td>Positive</td>\n",
       "    </tr>\n",
       "    <tr>\n",
       "      <th>8</th>\n",
       "      <td>Freedom Convoy as InkBlot Test https://t.co/au...</td>\n",
       "      <td>Positive</td>\n",
       "    </tr>\n",
       "    <tr>\n",
       "      <th>9</th>\n",
       "      <td>@WSOnlineNews @DavidKrayden Happy Anniversary!...</td>\n",
       "      <td>Positive</td>\n",
       "    </tr>\n",
       "  </tbody>\n",
       "</table>\n",
       "</div>"
      ],
      "text/plain": [
       "                                               Tweet Sentiment\n",
       "0  @_angelica_toy Happy Anniversary!!!....The Day...  Positive\n",
       "1  @McfarlaneGlenda Happy Anniversary!!!....The D...  Positive\n",
       "2  @thevivafrei @JustinTrudeau Happy Anniversary!...  Positive\n",
       "3  @NChartierET Happy Anniversary!!!....The Day t...  Positive\n",
       "4  @tabithapeters05 Happy Anniversary!!!....The D...  Positive\n",
       "5  @JusticeStyle Happy Anniversary!!!....The Day ...  Positive\n",
       "6  @Praiset22112963 @Emergencies_Act @ikwilson Ha...  Positive\n",
       "7  @parnel1123 @RealAndyLeeShow Happy Anniversary...  Positive\n",
       "8  Freedom Convoy as InkBlot Test https://t.co/au...  Positive\n",
       "9  @WSOnlineNews @DavidKrayden Happy Anniversary!...  Positive"
      ]
     },
     "execution_count": 20,
     "metadata": {},
     "output_type": "execute_result"
    }
   ],
   "source": [
    "#adding preprocessed data to csv\n",
    "df.to_csv('preprocessed_data.csv', index=False)\n",
    "\n",
    "# Display the first few rows of the DataFrame to verify the changes\n",
    "df.head(10)"
   ]
  },
  {
   "cell_type": "code",
   "execution_count": 21,
   "id": "d439e23e",
   "metadata": {},
   "outputs": [
    {
     "name": "stdout",
     "output_type": "stream",
     "text": [
      "X_train shape: (361064,)\n",
      "X_test shape: (90267,)\n",
      "y_train shape: (361064,)\n",
      "y_test shape: (90267,)\n"
     ]
    }
   ],
   "source": [
    "#Importing necessary libraries\n",
    "from sklearn.model_selection import train_test_split, GridSearchCV\n",
    "from sklearn.naive_bayes import MultinomialNB\n",
    "from sklearn.feature_extraction.text import CountVectorizer\n",
    "from sklearn.metrics import confusion_matrix, f1_score, roc_auc_score, accuracy_score\n",
    "from sklearn.model_selection import GridSearchCV\n",
    "tweet = df['Tweet']\n",
    "senti = df['Sentiment']\n",
    "# Splitting the dataset\n",
    "X_train, X_test, y_train, y_test = train_test_split(tweet, senti, test_size=0.2, random_state=42)\n",
    "\n",
    "print(\"X_train shape:\", X_train.shape)\n",
    "print(\"X_test shape:\", X_test.shape)\n",
    "print(\"y_train shape:\", y_train.shape)\n",
    "print(\"y_test shape:\", y_test.shape)"
   ]
  },
  {
   "cell_type": "code",
   "execution_count": 26,
   "id": "3068fa85",
   "metadata": {},
   "outputs": [
    {
     "name": "stdout",
     "output_type": "stream",
     "text": [
      "X_train: 403679    @michaelcoren Are you near the convoy of freedom?\n",
      "359568    @wo96729803 I hear at least half of the 'freed...\n",
      "215400    Ottawaâs interim police chief Steve Bell war...\n",
      "71711     @DuaneDawson6 @thereds8 Great comparison re: i...\n",
      "272981    @EvanLSolomon @fordnation @JustinTrudeau Can y...\n",
      "                                ...                        \n",
      "259179    Goodbye @tdcanadatrust Draining everything rig...\n",
      "365839    Gofundme Shuts Down Truckersâ Freedom Convoy...\n",
      "131933    #BREAKING: An Ottawa judge has ruled that \"Fre...\n",
      "146868    @keigh_see @Tinman_73 They were literally call...\n",
      "121959    Conservatives &amp; Right-Wing Media on #Ottaw...\n",
      "Name: Tweet, Length: 361064, dtype: object\n",
      "X_test: 219578    Why would the Emergency Act still be needed if...\n",
      "224266    People who call 911 to call in their displeasu...\n",
      "264609    Feckless #Trudeau just made a show case to tur...\n",
      "352154    The honking is working!!! Keep it up Freedom C...\n",
      "27320     @FrederickBoudr2 And the Canadian Freedom Conv...\n",
      "                                ...                        \n",
      "232458    Canadian police arrest âFreedom Convoyâ or...\n",
      "232382    The officer who trampled the woman must be fir...\n",
      "448482    The most difficult thing is the decision to ac...\n",
      "282031    Police clear Canada's 'Freedom Convoy' from Am...\n",
      "300352    @washingtonpost This is not a Freedom Convoy b...\n",
      "Name: Tweet, Length: 90267, dtype: object\n"
     ]
    }
   ],
   "source": [
    "# Converting all entries in X_train and X_test to strings\n",
    "X_train = X_train.astype(str)\n",
    "X_test = X_test.astype(str)\n",
    "print(\"X_train:\",X_train)\n",
    "print(\"X_test:\",X_test)"
   ]
  },
  {
   "cell_type": "code",
   "execution_count": 27,
   "id": "5572d992",
   "metadata": {
    "scrolled": true
   },
   "outputs": [
    {
     "name": "stdout",
     "output_type": "stream",
     "text": [
      "X_train_nb:   (0, 1397258)\t1\n",
      "  (0, 176759)\t1\n",
      "  (0, 2331247)\t1\n",
      "  (0, 1461475)\t1\n",
      "  (0, 2006986)\t1\n",
      "  (0, 625949)\t1\n",
      "  (0, 1517690)\t1\n",
      "  (0, 921177)\t1\n",
      "  (0, 1397260)\t1\n",
      "  (0, 182059)\t1\n",
      "  (0, 2333976)\t1\n",
      "  (0, 1461722)\t1\n",
      "  (0, 2010445)\t1\n",
      "  (0, 633108)\t1\n",
      "  (0, 1521186)\t1\n",
      "  (1, 2006986)\t1\n",
      "  (1, 625949)\t1\n",
      "  (1, 1517690)\t1\n",
      "  (1, 921177)\t1\n",
      "  (1, 2292244)\t1\n",
      "  (1, 1056626)\t1\n",
      "  (1, 200209)\t1\n",
      "  (1, 1284634)\t1\n",
      "  (1, 1033502)\t1\n",
      "  (1, 2254069)\t1\n",
      "  :\t:\n",
      "  (361063, 296131)\t1\n",
      "  (361063, 2078814)\t1\n",
      "  (361063, 134472)\t1\n",
      "  (361063, 134178)\t1\n",
      "  (361063, 611163)\t1\n",
      "  (361063, 1541552)\t1\n",
      "  (361063, 928067)\t1\n",
      "  (361063, 2073708)\t1\n",
      "  (361063, 2280808)\t1\n",
      "  (361063, 1384105)\t1\n",
      "  (361063, 617221)\t1\n",
      "  (361063, 272928)\t1\n",
      "  (361063, 136607)\t1\n",
      "  (361063, 1777983)\t1\n",
      "  (361063, 1576418)\t1\n",
      "  (361063, 1499626)\t1\n",
      "  (361063, 611166)\t1\n",
      "  (361063, 1223033)\t1\n",
      "  (361063, 135253)\t1\n",
      "  (361063, 760321)\t1\n",
      "  (361063, 1048005)\t1\n",
      "  (361063, 1747756)\t1\n",
      "  (361063, 1541997)\t1\n",
      "  (361063, 1337929)\t1\n",
      "  (361063, 1337948)\t1\n",
      "X_test_nb:   (0, 85117)\t1\n",
      "  (0, 141892)\t1\n",
      "  (0, 153581)\t1\n",
      "  (0, 176759)\t1\n",
      "  (0, 178294)\t1\n",
      "  (0, 182989)\t1\n",
      "  (0, 234844)\t1\n",
      "  (0, 237544)\t1\n",
      "  (0, 277388)\t1\n",
      "  (0, 277407)\t1\n",
      "  (0, 281135)\t1\n",
      "  (0, 807983)\t1\n",
      "  (0, 807988)\t1\n",
      "  (0, 810745)\t1\n",
      "  (0, 926149)\t1\n",
      "  (0, 1113841)\t1\n",
      "  (0, 1115000)\t1\n",
      "  (0, 1463460)\t1\n",
      "  (0, 1463587)\t1\n",
      "  (0, 1935873)\t1\n",
      "  (0, 1935981)\t1\n",
      "  (0, 1944774)\t1\n",
      "  (0, 1944791)\t1\n",
      "  (0, 2006986)\t1\n",
      "  (0, 2008842)\t1\n",
      "  :\t:\n",
      "  (90265, 922046)\t1\n",
      "  (90265, 947568)\t1\n",
      "  (90265, 947789)\t1\n",
      "  (90265, 1099296)\t1\n",
      "  (90265, 1099301)\t1\n",
      "  (90265, 1348713)\t1\n",
      "  (90265, 1654605)\t1\n",
      "  (90265, 1654970)\t1\n",
      "  (90265, 2203088)\t1\n",
      "  (90265, 2203713)\t1\n",
      "  (90266, 230318)\t1\n",
      "  (90266, 307964)\t1\n",
      "  (90266, 312070)\t1\n",
      "  (90266, 625949)\t1\n",
      "  (90266, 627488)\t1\n",
      "  (90266, 921177)\t1\n",
      "  (90266, 922046)\t1\n",
      "  (90266, 1164299)\t1\n",
      "  (90266, 1168797)\t1\n",
      "  (90266, 1491408)\t1\n",
      "  (90266, 1492946)\t1\n",
      "  (90266, 2050708)\t1\n",
      "  (90266, 2052819)\t1\n",
      "  (90266, 2237711)\t1\n",
      "  (90266, 2237821)\t1\n"
     ]
    }
   ],
   "source": [
    "# Vectorization using One-Hot Encoding for Unigrams and Bigrams\n",
    "vectorizer = CountVectorizer(ngram_range=(1, 2), binary=True)\n",
    "X_train_nb = vectorizer.fit_transform(X_train)\n",
    "X_test_nb = vectorizer.transform(X_test)\n",
    "print(\"X_train_nb:\",X_train_nb)\n",
    "print(\"X_test_nb:\",X_test_nb)"
   ]
  },
  {
   "cell_type": "markdown",
   "id": "9b21a91f",
   "metadata": {},
   "source": [
    "# SMOTE"
   ]
  },
  {
   "cell_type": "code",
   "execution_count": 50,
   "id": "438e9b8b",
   "metadata": {},
   "outputs": [
    {
     "name": "stdout",
     "output_type": "stream",
     "text": [
      "Requirement already satisfied: imbalanced-learn in c:\\users\\asus\\anaconda3\\lib\\site-packages (0.10.1)Note: you may need to restart the kernel to use updated packages.\n",
      "\n",
      "Requirement already satisfied: threadpoolctl>=2.0.0 in c:\\users\\asus\\anaconda3\\lib\\site-packages (from imbalanced-learn) (2.2.0)\n",
      "Requirement already satisfied: joblib>=1.1.1 in c:\\users\\asus\\anaconda3\\lib\\site-packages (from imbalanced-learn) (1.1.1)\n",
      "Requirement already satisfied: scipy>=1.3.2 in c:\\users\\asus\\anaconda3\\lib\\site-packages (from imbalanced-learn) (1.10.0)\n",
      "Requirement already satisfied: scikit-learn>=1.0.2 in c:\\users\\asus\\anaconda3\\lib\\site-packages (from imbalanced-learn) (1.2.1)\n",
      "Requirement already satisfied: numpy>=1.17.3 in c:\\users\\asus\\anaconda3\\lib\\site-packages (from imbalanced-learn) (1.23.5)\n"
     ]
    }
   ],
   "source": [
    "pip install imbalanced-learn"
   ]
  },
  {
   "cell_type": "code",
   "execution_count": 51,
   "id": "0366ade5",
   "metadata": {
    "scrolled": false
   },
   "outputs": [],
   "source": [
    "from imblearn.over_sampling import SMOTE\n",
    "# Instantiate SMOTE with a fixed random state for reproducibility\n",
    "smote = SMOTE(random_state=42)\n",
    "# Apply SMOTE to balance the class distribution\n",
    "X_train_resampled, y_train_resampled = smote.fit_resample(X_train_nb, y_train)"
   ]
  },
  {
   "cell_type": "code",
   "execution_count": 52,
   "id": "4b1e9ab9",
   "metadata": {},
   "outputs": [],
   "source": [
    "# Initializing the Multinomial Naive Bayes model\n",
    "nb = MultinomialNB()"
   ]
  },
  {
   "cell_type": "code",
   "execution_count": 55,
   "id": "72a14717",
   "metadata": {},
   "outputs": [
    {
     "name": "stdout",
     "output_type": "stream",
     "text": [
      "grid {'alpha': [0.1, 0.5, 1.0]}\n"
     ]
    }
   ],
   "source": [
    "# Defining the hyperparameter grid (smoothing parameter)\n",
    "grid = {'alpha': [0.1, 0.5, 1.0]}"
   ]
  },
  {
   "cell_type": "code",
   "execution_count": 54,
   "id": "98a15d17",
   "metadata": {},
   "outputs": [],
   "source": [
    "# Converting all to sstring type\n",
    "y_train = y_train.astype(str)\n",
    "y_test = y_test.astype(str)"
   ]
  },
  {
   "cell_type": "code",
   "execution_count": 55,
   "id": "dae0e829",
   "metadata": {},
   "outputs": [
    {
     "data": {
      "text/html": [
       "<style>#sk-container-id-2 {color: black;background-color: white;}#sk-container-id-2 pre{padding: 0;}#sk-container-id-2 div.sk-toggleable {background-color: white;}#sk-container-id-2 label.sk-toggleable__label {cursor: pointer;display: block;width: 100%;margin-bottom: 0;padding: 0.3em;box-sizing: border-box;text-align: center;}#sk-container-id-2 label.sk-toggleable__label-arrow:before {content: \"▸\";float: left;margin-right: 0.25em;color: #696969;}#sk-container-id-2 label.sk-toggleable__label-arrow:hover:before {color: black;}#sk-container-id-2 div.sk-estimator:hover label.sk-toggleable__label-arrow:before {color: black;}#sk-container-id-2 div.sk-toggleable__content {max-height: 0;max-width: 0;overflow: hidden;text-align: left;background-color: #f0f8ff;}#sk-container-id-2 div.sk-toggleable__content pre {margin: 0.2em;color: black;border-radius: 0.25em;background-color: #f0f8ff;}#sk-container-id-2 input.sk-toggleable__control:checked~div.sk-toggleable__content {max-height: 200px;max-width: 100%;overflow: auto;}#sk-container-id-2 input.sk-toggleable__control:checked~label.sk-toggleable__label-arrow:before {content: \"▾\";}#sk-container-id-2 div.sk-estimator input.sk-toggleable__control:checked~label.sk-toggleable__label {background-color: #d4ebff;}#sk-container-id-2 div.sk-label input.sk-toggleable__control:checked~label.sk-toggleable__label {background-color: #d4ebff;}#sk-container-id-2 input.sk-hidden--visually {border: 0;clip: rect(1px 1px 1px 1px);clip: rect(1px, 1px, 1px, 1px);height: 1px;margin: -1px;overflow: hidden;padding: 0;position: absolute;width: 1px;}#sk-container-id-2 div.sk-estimator {font-family: monospace;background-color: #f0f8ff;border: 1px dotted black;border-radius: 0.25em;box-sizing: border-box;margin-bottom: 0.5em;}#sk-container-id-2 div.sk-estimator:hover {background-color: #d4ebff;}#sk-container-id-2 div.sk-parallel-item::after {content: \"\";width: 100%;border-bottom: 1px solid gray;flex-grow: 1;}#sk-container-id-2 div.sk-label:hover label.sk-toggleable__label {background-color: #d4ebff;}#sk-container-id-2 div.sk-serial::before {content: \"\";position: absolute;border-left: 1px solid gray;box-sizing: border-box;top: 0;bottom: 0;left: 50%;z-index: 0;}#sk-container-id-2 div.sk-serial {display: flex;flex-direction: column;align-items: center;background-color: white;padding-right: 0.2em;padding-left: 0.2em;position: relative;}#sk-container-id-2 div.sk-item {position: relative;z-index: 1;}#sk-container-id-2 div.sk-parallel {display: flex;align-items: stretch;justify-content: center;background-color: white;position: relative;}#sk-container-id-2 div.sk-item::before, #sk-container-id-2 div.sk-parallel-item::before {content: \"\";position: absolute;border-left: 1px solid gray;box-sizing: border-box;top: 0;bottom: 0;left: 50%;z-index: -1;}#sk-container-id-2 div.sk-parallel-item {display: flex;flex-direction: column;z-index: 1;position: relative;background-color: white;}#sk-container-id-2 div.sk-parallel-item:first-child::after {align-self: flex-end;width: 50%;}#sk-container-id-2 div.sk-parallel-item:last-child::after {align-self: flex-start;width: 50%;}#sk-container-id-2 div.sk-parallel-item:only-child::after {width: 0;}#sk-container-id-2 div.sk-dashed-wrapped {border: 1px dashed gray;margin: 0 0.4em 0.5em 0.4em;box-sizing: border-box;padding-bottom: 0.4em;background-color: white;}#sk-container-id-2 div.sk-label label {font-family: monospace;font-weight: bold;display: inline-block;line-height: 1.2em;}#sk-container-id-2 div.sk-label-container {text-align: center;}#sk-container-id-2 div.sk-container {/* jupyter's `normalize.less` sets `[hidden] { display: none; }` but bootstrap.min.css set `[hidden] { display: none !important; }` so we also need the `!important` here to be able to override the default hidden behavior on the sphinx rendered scikit-learn.org. See: https://github.com/scikit-learn/scikit-learn/issues/21755 */display: inline-block !important;position: relative;}#sk-container-id-2 div.sk-text-repr-fallback {display: none;}</style><div id=\"sk-container-id-2\" class=\"sk-top-container\"><div class=\"sk-text-repr-fallback\"><pre>GridSearchCV(cv=5, estimator=MultinomialNB(),\n",
       "             param_grid={&#x27;alpha&#x27;: [0.1, 0.5, 1.0]}, scoring=&#x27;accuracy&#x27;)</pre><b>In a Jupyter environment, please rerun this cell to show the HTML representation or trust the notebook. <br />On GitHub, the HTML representation is unable to render, please try loading this page with nbviewer.org.</b></div><div class=\"sk-container\" hidden><div class=\"sk-item sk-dashed-wrapped\"><div class=\"sk-label-container\"><div class=\"sk-label sk-toggleable\"><input class=\"sk-toggleable__control sk-hidden--visually\" id=\"sk-estimator-id-4\" type=\"checkbox\" ><label for=\"sk-estimator-id-4\" class=\"sk-toggleable__label sk-toggleable__label-arrow\">GridSearchCV</label><div class=\"sk-toggleable__content\"><pre>GridSearchCV(cv=5, estimator=MultinomialNB(),\n",
       "             param_grid={&#x27;alpha&#x27;: [0.1, 0.5, 1.0]}, scoring=&#x27;accuracy&#x27;)</pre></div></div></div><div class=\"sk-parallel\"><div class=\"sk-parallel-item\"><div class=\"sk-item\"><div class=\"sk-label-container\"><div class=\"sk-label sk-toggleable\"><input class=\"sk-toggleable__control sk-hidden--visually\" id=\"sk-estimator-id-5\" type=\"checkbox\" ><label for=\"sk-estimator-id-5\" class=\"sk-toggleable__label sk-toggleable__label-arrow\">estimator: MultinomialNB</label><div class=\"sk-toggleable__content\"><pre>MultinomialNB()</pre></div></div></div><div class=\"sk-serial\"><div class=\"sk-item\"><div class=\"sk-estimator sk-toggleable\"><input class=\"sk-toggleable__control sk-hidden--visually\" id=\"sk-estimator-id-6\" type=\"checkbox\" ><label for=\"sk-estimator-id-6\" class=\"sk-toggleable__label sk-toggleable__label-arrow\">MultinomialNB</label><div class=\"sk-toggleable__content\"><pre>MultinomialNB()</pre></div></div></div></div></div></div></div></div></div></div>"
      ],
      "text/plain": [
       "GridSearchCV(cv=5, estimator=MultinomialNB(),\n",
       "             param_grid={'alpha': [0.1, 0.5, 1.0]}, scoring='accuracy')"
      ]
     },
     "execution_count": 55,
     "metadata": {},
     "output_type": "execute_result"
    }
   ],
   "source": [
    "# Performing Grid Search with Cross-Validation\n",
    "#training\n",
    "g_search = GridSearchCV(nb, grid, cv=5, scoring='accuracy')\n",
    "g_search.fit(X_train_nb, y_train)"
   ]
  },
  {
   "cell_type": "code",
   "execution_count": 56,
   "id": "7ad2af90",
   "metadata": {},
   "outputs": [],
   "source": [
    "#Finding the best model found by Grid Search\n",
    "best_nb = g_search.best_estimator_"
   ]
  },
  {
   "cell_type": "code",
   "execution_count": 57,
   "id": "045722a7",
   "metadata": {},
   "outputs": [],
   "source": [
    "# Predicting on the test set\n",
    "\n",
    "#predict\n",
    "y_pred_nb = best_nb.predict(X_test_nb)"
   ]
  },
  {
   "cell_type": "markdown",
   "id": "400c3261",
   "metadata": {},
   "source": [
    "# Evaluation metrics"
   ]
  },
  {
   "cell_type": "code",
   "execution_count": 58,
   "id": "0de32c6c",
   "metadata": {},
   "outputs": [],
   "source": [
    "cm_nb = confusion_matrix(y_test, y_pred_nb)\n",
    "f1_nb = f1_score(y_test, y_pred_nb, average='weighted')\n",
    "auc_nb = roc_auc_score(y_test, best_nb.predict_proba(X_test_nb), multi_class='ovr')\n",
    "acc_nb = accuracy_score(y_test, y_pred_nb)"
   ]
  },
  {
   "cell_type": "markdown",
   "id": "e95258fd",
   "metadata": {},
   "source": [
    " # Plotting for Confusion Matrix"
   ]
  },
  {
   "cell_type": "code",
   "execution_count": 59,
   "id": "2c9e06af",
   "metadata": {},
   "outputs": [],
   "source": [
    "#Importing libraries for plotting Confusion Matrix\n",
    "import matplotlib.pyplot as plt\n",
    "import seaborn as sns"
   ]
  },
  {
   "cell_type": "code",
   "execution_count": 60,
   "id": "e38db712",
   "metadata": {},
   "outputs": [
    {
     "data": {
      "image/png": "[encoded data removed]",
      "text/plain": [
       "<Figure size 1000x700 with 2 Axes>"
      ]
     },
     "metadata": {},
     "output_type": "display_data"
    },
    {
     "name": "stdout",
     "output_type": "stream",
     "text": [
      "F1 Score: 0.624926675288497\n",
      "AUC: 0.6526998749399809\n",
      "Accuracy: 0.7072019674964273\n"
     ]
    }
   ],
   "source": [
    "def NB_confusion_matrix(cm, classes, title='Confusion Matrix'):\n",
    "    plt.figure(figsize=(10, 7))\n",
    "    sns.heatmap(cm, annot=True, fmt='d', cmap='Blues', xticklabels=classes, yticklabels=classes)\n",
    "    plt.xlabel('Predicted')\n",
    "    plt.ylabel('True')\n",
    "    plt.title(title)\n",
    "    plt.show()\n",
    "NB_confusion_matrix(cm_nb, classes=['Positive', 'Neutral', 'Negative'], title='Confusion Matrix - Naive Bayes with One-Hot Vectors')\n",
    "print(f\"F1 Score: {f1_nb}\")\n",
    "print(f\"AUC: {auc_nb}\")\n",
    "print(f\"Accuracy: {acc_nb}\")"
   ]
  },
  {
   "cell_type": "markdown",
   "id": "568ca395",
   "metadata": {},
   "source": [
    "# ROC curves - Naive bayes along with one-hot vectors"
   ]
  },
  {
   "cell_type": "code",
   "execution_count": 61,
   "id": "06ed6d64",
   "metadata": {},
   "outputs": [],
   "source": [
    "from sklearn.metrics import roc_curve, auc\n",
    "from sklearn.preprocessing import label_binarize\n",
    "import matplotlib.pyplot as plt\n",
    "\n",
    "# Compute ROC curve and ROC area for each class\n",
    "y_score_oh = best_nb.predict_proba(X_test_nb) #THIS IS USE FOR TO PREDICTS THE PROBABILITY OF EACH CLASS FOR THE TEST DATASET.\n",
    "y_test_bin = label_binarize(y_test, classes=['Positive', 'Neutral', 'Negative']) #CONVERT INTO BINARY AND EACH CLASS HAS IT'S OWN COLUMN.\n",
    "n_classes = y_test_bin.shape[1] #NO OF UNIQUE CLASS\n",
    "\n",
    "fpr, tpr, roc_auc = {}, {}, {}  #TO STORE FP TP AND AUC VALUES.\n",
    "for i in range(n_classes):\n",
    "    fpr[i], tpr[i], _ = roc_curve(y_test_bin[:, i], y_score_oh[:, i])\n",
    "    roc_auc[i] = auc(fpr[i], tpr[i])"
   ]
  },
  {
   "cell_type": "code",
   "execution_count": 62,
   "id": "5e3ede75",
   "metadata": {},
   "outputs": [
    {
     "data": {
      "image/png": "[encoded data removed]",
      "text/plain": [
       "<Figure size 640x480 with 1 Axes>"
      ]
     },
     "metadata": {},
     "output_type": "display_data"
    }
   ],
   "source": [
    "# Plot ROC curves for each class\n",
    "colors = ['blue', 'red', 'green']\n",
    "plt.figure()\n",
    "for i, color in enumerate(colors):\n",
    "    plt.plot(fpr[i], tpr[i], color=color, lw=2, label=f'Class {i} (area = {roc_auc[i]:0.2f})')\n",
    "\n",
    "plt.plot([0, 1], [0, 1], 'k--', lw=2)\n",
    "plt.xlim([0.0, 1.0])\n",
    "plt.ylim([0.0, 1.05])\n",
    "plt.xlabel('False Positive Rate')\n",
    "plt.ylabel('True Positive Rate')\n",
    "plt.title('ROC Curve - Naive Bayes with One-Hot Vectors')\n",
    "plt.legend(loc=\"lower right\")\n",
    "plt.show()"
   ]
  }
 ],
 "metadata": {
  "kernelspec": {
   "display_name": "Python 3 (ipykernel)",
   "language": "python",
   "name": "python3"
  },
  "language_info": {
   "codemirror_mode": {
    "name": "ipython",
    "version": 3
   },
   "file_extension": ".py",
   "mimetype": "text/x-python",
   "name": "python",
   "nbconvert_exporter": "python",
   "pygments_lexer": "ipython3",
   "version": "3.10.9"
  }
 },
 "nbformat": 4,
 "nbformat_minor": 5
}
